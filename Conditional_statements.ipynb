{
 "cells": [
  {
   "cell_type": "code",
   "execution_count": 1,
   "metadata": {},
   "outputs": [
    {
     "name": "stdout",
     "output_type": "stream",
     "text": [
      "Enter any value : 10\n"
     ]
    },
    {
     "data": {
      "text/plain": [
       "True"
      ]
     },
     "execution_count": 1,
     "metadata": {},
     "output_type": "execute_result"
    }
   ],
   "source": [
    "x = int(input(\"Enter any value : \"))\n",
    "True if x%2==0 else False"
   ]
  },
  {
   "cell_type": "code",
   "execution_count": 2,
   "metadata": {},
   "outputs": [
    {
     "name": "stdout",
     "output_type": "stream",
     "text": [
      "Enter any value : 9\n",
      "Odd\n"
     ]
    }
   ],
   "source": [
    "x = int(input(\"Enter any value : \"))\n",
    "print(\"Even\") if x%2==0 else print(\"Odd\")"
   ]
  },
  {
   "cell_type": "code",
   "execution_count": 3,
   "metadata": {},
   "outputs": [
    {
     "name": "stdout",
     "output_type": "stream",
     "text": [
      "23\n",
      "Good\n"
     ]
    }
   ],
   "source": [
    "print(\"Good\") if input() else print(\"Bad\")"
   ]
  },
  {
   "cell_type": "code",
   "execution_count": 4,
   "metadata": {},
   "outputs": [
    {
     "name": "stdout",
     "output_type": "stream",
     "text": [
      "0\n",
      "Bad\n"
     ]
    }
   ],
   "source": [
    "print(\"Good\") if int(input()) else print(\"Bad\")"
   ]
  },
  {
   "cell_type": "code",
   "execution_count": 5,
   "metadata": {},
   "outputs": [
    {
     "name": "stdout",
     "output_type": "stream",
     "text": [
      "hello world\n",
      "None\n"
     ]
    }
   ],
   "source": [
    "print(print(\"hello world\"))"
   ]
  },
  {
   "cell_type": "code",
   "execution_count": 6,
   "metadata": {},
   "outputs": [
    {
     "name": "stdout",
     "output_type": "stream",
     "text": [
      "Hello world\n",
      "Bye world\n"
     ]
    }
   ],
   "source": [
    "print(\"hello world\") if print(\"Hello world\") else print(\"Bye world\")"
   ]
  },
  {
   "cell_type": "code",
   "execution_count": 8,
   "metadata": {},
   "outputs": [
    {
     "name": "stdout",
     "output_type": "stream",
     "text": [
      "bye bye\n"
     ]
    }
   ],
   "source": [
    "print(\"hi hi\") if False else print(\"bye bye\")"
   ]
  },
  {
   "cell_type": "code",
   "execution_count": 9,
   "metadata": {},
   "outputs": [
    {
     "name": "stdout",
     "output_type": "stream",
     "text": [
      "hi hi\n"
     ]
    }
   ],
   "source": [
    "print(\"hi hi\") if True else print(\"bye bye\")"
   ]
  },
  {
   "cell_type": "code",
   "execution_count": 10,
   "metadata": {},
   "outputs": [
    {
     "name": "stdout",
     "output_type": "stream",
     "text": [
      "hello world this is mine\n"
     ]
    }
   ],
   "source": [
    "print(\"hello\",\"world\",\"this\",\"is\",\"mine\")"
   ]
  },
  {
   "cell_type": "code",
   "execution_count": 11,
   "metadata": {},
   "outputs": [
    {
     "name": "stdout",
     "output_type": "stream",
     "text": [
      "hello\n",
      "world\n"
     ]
    }
   ],
   "source": [
    "print(\"hello\")\n",
    "print(\"world\")"
   ]
  },
  {
   "cell_type": "code",
   "execution_count": 12,
   "metadata": {},
   "outputs": [
    {
     "name": "stdout",
     "output_type": "stream",
     "text": [
      "hello*world*this*is*mine\n"
     ]
    }
   ],
   "source": [
    "print(\"hello\",\"world\",\"this\",\"is\",\"mine\",sep=\"*\")"
   ]
  },
  {
   "cell_type": "code",
   "execution_count": 13,
   "metadata": {},
   "outputs": [
    {
     "name": "stdout",
     "output_type": "stream",
     "text": [
      "hello,world,this,is,mine\n"
     ]
    }
   ],
   "source": [
    "print(\"hello\",\"world\",\"this\",\"is\",\"mine\",sep=\",\")"
   ]
  },
  {
   "cell_type": "code",
   "execution_count": 16,
   "metadata": {},
   "outputs": [
    {
     "name": "stdout",
     "output_type": "stream",
     "text": [
      "hello world this is mine I love python\n"
     ]
    }
   ],
   "source": [
    "print(\"hello\",\"world\",\"this\",\"is\",\"mine\",end=\" \")\n",
    "print(\"I love python\")"
   ]
  },
  {
   "cell_type": "code",
   "execution_count": 18,
   "metadata": {},
   "outputs": [
    {
     "name": "stdout",
     "output_type": "stream",
     "text": [
      "hello*world*bye*world\n",
      "heya\n"
     ]
    }
   ],
   "source": [
    "print(\"hello\",end=\"*\")\n",
    "print(\"world\",end=\"*\")\n",
    "print(\"bye\",end=\"*\")\n",
    "print(\"world\")\n",
    "print(\"heya\")"
   ]
  },
  {
   "cell_type": "code",
   "execution_count": 19,
   "metadata": {},
   "outputs": [
    {
     "name": "stdout",
     "output_type": "stream",
     "text": [
      "Enter any value : -10\n"
     ]
    }
   ],
   "source": [
    "#if\n",
    "x = int(input(\"Enter any value : \"))\n",
    "if x>0:\n",
    "    print(\"positive\")\n"
   ]
  },
  {
   "cell_type": "code",
   "execution_count": 23,
   "metadata": {},
   "outputs": [
    {
     "name": "stdout",
     "output_type": "stream",
     "text": [
      "Enter any value : 2\n",
      "number 2 is positive\n"
     ]
    }
   ],
   "source": [
    "#if\n",
    "x = int(input(\"Enter any value : \"))\n",
    "if x>0:\n",
    "    print(f\"number {x} is positive\")\n"
   ]
  },
  {
   "cell_type": "code",
   "execution_count": 25,
   "metadata": {},
   "outputs": [
    {
     "name": "stdout",
     "output_type": "stream",
     "text": [
      "Enter any value : 23\n",
      "Number 23 is positive\n"
     ]
    }
   ],
   "source": [
    "#if-else\n",
    "#if\n",
    "x = int(input(\"Enter any value : \"))\n",
    "if x>0:\n",
    "    print(f\"Number {x} is positive\")\n",
    "else:\n",
    "    print(f\"Number {x} is negative\")\n"
   ]
  },
  {
   "cell_type": "code",
   "execution_count": 28,
   "metadata": {},
   "outputs": [
    {
     "name": "stdout",
     "output_type": "stream",
     "text": [
      "Enter any value : 20\n",
      "The number 20 is even\n"
     ]
    }
   ],
   "source": [
    "x = int(input(\"Enter any value : \"))\n",
    "if x%2 == 0:\n",
    "    print(f\"The number {x} is even\")\n",
    "else:\n",
    "    print(f\"The number {x} is odd\")"
   ]
  },
  {
   "cell_type": "code",
   "execution_count": 1,
   "metadata": {},
   "outputs": [],
   "source": [
    "d = {\n",
    "    'name' : ['simran','mayank','manish','rahul','rajat'],\n",
    "    'accno' : [1001,1002,1003,1004,1005],\n",
    "    'bal' : [10000,20000,15000,30000,50000],\n",
    "    'password' : ['abc','pass','passpass','admin','password']\n",
    "}\n",
    "\n",
    "#take accno as an input\n",
    "#take amount to credit--> 10000\n",
    "#take amount to debit\n",
    "#show the details\n",
    "#ask for password change"
   ]
  },
  {
   "cell_type": "code",
   "execution_count": 2,
   "metadata": {},
   "outputs": [
    {
     "name": "stdout",
     "output_type": "stream",
     "text": [
      "Enter your account number : 1001\n"
     ]
    }
   ],
   "source": [
    "n = int(input(\"Enter your account number : \"))"
   ]
  },
  {
   "cell_type": "code",
   "execution_count": 5,
   "metadata": {},
   "outputs": [],
   "source": [
    "i = d['accno'].index(n)"
   ]
  },
  {
   "cell_type": "code",
   "execution_count": 6,
   "metadata": {},
   "outputs": [
    {
     "data": {
      "text/plain": [
       "0"
      ]
     },
     "execution_count": 6,
     "metadata": {},
     "output_type": "execute_result"
    }
   ],
   "source": [
    "i"
   ]
  },
  {
   "cell_type": "code",
   "execution_count": 8,
   "metadata": {},
   "outputs": [
    {
     "data": {
      "text/plain": [
       "'simran'"
      ]
     },
     "execution_count": 8,
     "metadata": {},
     "output_type": "execute_result"
    }
   ],
   "source": [
    "d['name'][d['accno'].index(n)]"
   ]
  },
  {
   "cell_type": "code",
   "execution_count": 9,
   "metadata": {},
   "outputs": [
    {
     "name": "stdout",
     "output_type": "stream",
     "text": [
      "Enter any number : 1\n",
      "Enter another number : 0\n",
      "1 a is greatest\n"
     ]
    }
   ],
   "source": [
    "#greatest between two numbers\n",
    "\n",
    "a = int(input(\"Enter any number : \"))\n",
    "b = int(input(\"Enter another number : \"))\n",
    "\n",
    "if a>b:\n",
    "    print(f\"{a} a is greatest\")\n",
    "else:\n",
    "    print(f\"{b} b is greatest\")"
   ]
  },
  {
   "cell_type": "code",
   "execution_count": 12,
   "metadata": {},
   "outputs": [
    {
     "name": "stdout",
     "output_type": "stream",
     "text": [
      "Enter any number : 0\n",
      "The number is negative\n"
     ]
    }
   ],
   "source": [
    "a = int(input(\"Enter any number : \"))\n",
    "if a>0:\n",
    "    print(\"The number is positive\")\n",
    "else:\n",
    "    print(\"The number is negative\")"
   ]
  },
  {
   "cell_type": "code",
   "execution_count": 14,
   "metadata": {},
   "outputs": [
    {
     "name": "stdout",
     "output_type": "stream",
     "text": [
      "Enter any number : 0\n",
      "The number is zero\n"
     ]
    }
   ],
   "source": [
    "a = int(input(\"Enter any number : \"))\n",
    "if a>0:\n",
    "    print(\"The number is positive\")\n",
    "elif a==0:\n",
    "    print(\"The number is zero\")\n",
    "else:\n",
    "    print(\"The number is negative\")"
   ]
  },
  {
   "cell_type": "code",
   "execution_count": 16,
   "metadata": {},
   "outputs": [
    {
     "name": "stdout",
     "output_type": "stream",
     "text": [
      "Enter first number : 12\n",
      "Enter second number : 12\n",
      "Enter third number : 9\n",
      "The greatest number is 12\n"
     ]
    }
   ],
   "source": [
    "#greatest among three numbers\n",
    "\n",
    "a = int(input(\"Enter first number : \"))\n",
    "b = int(input(\"Enter second number : \"))\n",
    "c = int(input(\"Enter third number : \"))\n",
    "\n",
    "if a>b and a>c:\n",
    "    print(\"The greatest number is {}\".format(a))\n",
    "elif b>c:\n",
    "    print(\"The greatest number is {}\".format(b))\n",
    "else:\n",
    "    print(\"The greatest number is {}\".format(c))"
   ]
  },
  {
   "cell_type": "code",
   "execution_count": 17,
   "metadata": {},
   "outputs": [
    {
     "name": "stdout",
     "output_type": "stream",
     "text": [
      "Enter first number : 10\n",
      "Enter second number : 20\n",
      "Enter third number : 30\n",
      "The number c 30 is greatest\n"
     ]
    }
   ],
   "source": [
    "a = int(input(\"Enter first number : \"))\n",
    "b = int(input(\"Enter second number : \"))\n",
    "c = int(input(\"Enter third number : \"))\n",
    "\n",
    "if a>b:\n",
    "    if a>c:\n",
    "        print(f\"the number a {a} is greatest \")\n",
    "\n",
    "else:\n",
    "    if b>c:\n",
    "        print(f\"The number b {b} is greatest\")\n",
    "    else:\n",
    "        print(f\"The number c {c} is greatest\")"
   ]
  },
  {
   "cell_type": "code",
   "execution_count": 19,
   "metadata": {},
   "outputs": [
    {
     "name": "stdout",
     "output_type": "stream",
     "text": [
      "Enter your profession : government\n",
      "Enter your salary : 4000\n",
      "\n",
      " ****************************** Sorry you are not eligible for loan ******************************\n"
     ]
    }
   ],
   "source": [
    "profession = input(\"Enter your profession : \").strip().lower()\n",
    "if profession == \"government\":\n",
    "    sal = int(input(\"Enter your salary : \"))\n",
    "    if sal>=50000:\n",
    "        print(\"*\"*30,\"Congrats You are eligible for loan\",\"*\"*30)\n",
    "    else:\n",
    "        print(\"\\n\",\"*\"*30,\"Sorry you are not eligible for loan\",\"*\"*30)\n",
    "elif profession == \"business\":\n",
    "    turnorver = int(input(\"\\n Enter your turnover : \"))\n",
    "    if turnorver>=7:\n",
    "        print(\"\\n\",\"*\"*30,\"Congrats you are eligible for loan\",\"*\"*30)\n",
    "    else:\n",
    "        print(\"\\n\",\"*\"*30,\"Sorry you are not eligible for loan\",\"*\"*30)\n",
    "else:\n",
    "    print(\"\\n Your profession is not valid\")"
   ]
  },
  {
   "cell_type": "code",
   "execution_count": 21,
   "metadata": {},
   "outputs": [
    {
     "name": "stdout",
     "output_type": "stream",
     "text": [
      "Enter your salary10000\n",
      "You can do shopping\n"
     ]
    }
   ],
   "source": [
    "sal = int(input(\"Enter your salary\"))\n",
    "\n",
    "if sal>=10000:\n",
    "    print(\"You can do shopping\")\n",
    "\n",
    "elif 10000<sal<40000:\n",
    "    print(\"You can go for a trip at goa\")\n",
    "    \n",
    "else:\n",
    "    print(\"Sorry sit at home\")"
   ]
  },
  {
   "cell_type": "code",
   "execution_count": 22,
   "metadata": {},
   "outputs": [],
   "source": [
    "import random"
   ]
  },
  {
   "cell_type": "code",
   "execution_count": 23,
   "metadata": {},
   "outputs": [
    {
     "name": "stdout",
     "output_type": "stream",
     "text": [
      "['BPF', 'LOG4', 'NV_MAGICCONST', 'RECIP_BPF', 'Random', 'SG_MAGICCONST', 'SystemRandom', 'TWOPI', '_BuiltinMethodType', '_MethodType', '_Sequence', '_Set', '__all__', '__builtins__', '__cached__', '__doc__', '__file__', '__loader__', '__name__', '__package__', '__spec__', '_acos', '_bisect', '_ceil', '_cos', '_e', '_exp', '_inst', '_itertools', '_log', '_os', '_pi', '_random', '_sha512', '_sin', '_sqrt', '_test', '_test_generator', '_urandom', '_warn', 'betavariate', 'choice', 'choices', 'expovariate', 'gammavariate', 'gauss', 'getrandbits', 'getstate', 'lognormvariate', 'normalvariate', 'paretovariate', 'randint', 'random', 'randrange', 'sample', 'seed', 'setstate', 'shuffle', 'triangular', 'uniform', 'vonmisesvariate', 'weibullvariate']\n"
     ]
    }
   ],
   "source": [
    "print(dir(random))"
   ]
  },
  {
   "cell_type": "code",
   "execution_count": 24,
   "metadata": {},
   "outputs": [
    {
     "data": {
      "text/plain": [
       "0.003567341913888189"
      ]
     },
     "execution_count": 24,
     "metadata": {},
     "output_type": "execute_result"
    }
   ],
   "source": [
    "random.random()"
   ]
  },
  {
   "cell_type": "code",
   "execution_count": 25,
   "metadata": {},
   "outputs": [
    {
     "data": {
      "text/plain": [
       "130"
      ]
     },
     "execution_count": 25,
     "metadata": {},
     "output_type": "execute_result"
    }
   ],
   "source": [
    "random.randint(10,200)"
   ]
  },
  {
   "cell_type": "code",
   "execution_count": 27,
   "metadata": {},
   "outputs": [],
   "source": [
    "r = random.randint(1,100)"
   ]
  },
  {
   "cell_type": "code",
   "execution_count": 31,
   "metadata": {},
   "outputs": [
    {
     "data": {
      "text/plain": [
       "50"
      ]
     },
     "execution_count": 31,
     "metadata": {},
     "output_type": "execute_result"
    }
   ],
   "source": [
    "r"
   ]
  },
  {
   "cell_type": "code",
   "execution_count": 30,
   "metadata": {},
   "outputs": [
    {
     "name": "stdout",
     "output_type": "stream",
     "text": [
      "\n",
      " CHOOSE ANY RANDOM NUMBER BETWEEN 1-100\n",
      "\n",
      "Enter your number : 50\n",
      "\n",
      " You won\n"
     ]
    }
   ],
   "source": [
    "#Guess game\n",
    "print(\"\\n Choose any random number between 1-100\".upper())\n",
    "n = int(input(\"\\nEnter your number : \"))\n",
    "\n",
    "if n<r:\n",
    "    print(\"\\n Think High.......\")\n",
    "elif n>r:\n",
    "    print(\"\\n Think Low.....\")\n",
    "else:\n",
    "    print(\"\\n You won\")"
   ]
  },
  {
   "cell_type": "code",
   "execution_count": 32,
   "metadata": {},
   "outputs": [],
   "source": [
    "l = [1,2,3,4,5]"
   ]
  },
  {
   "cell_type": "code",
   "execution_count": 33,
   "metadata": {},
   "outputs": [
    {
     "data": {
      "text/plain": [
       "True"
      ]
     },
     "execution_count": 33,
     "metadata": {},
     "output_type": "execute_result"
    }
   ],
   "source": [
    "1 in l"
   ]
  },
  {
   "cell_type": "code",
   "execution_count": 34,
   "metadata": {},
   "outputs": [
    {
     "data": {
      "text/plain": [
       "False"
      ]
     },
     "execution_count": 34,
     "metadata": {},
     "output_type": "execute_result"
    }
   ],
   "source": [
    "0 in l"
   ]
  },
  {
   "cell_type": "code",
   "execution_count": 35,
   "metadata": {},
   "outputs": [
    {
     "data": {
      "text/plain": [
       "False"
      ]
     },
     "execution_count": 35,
     "metadata": {},
     "output_type": "execute_result"
    }
   ],
   "source": [
    "1 not in l"
   ]
  },
  {
   "cell_type": "code",
   "execution_count": 36,
   "metadata": {},
   "outputs": [
    {
     "data": {
      "text/plain": [
       "True"
      ]
     },
     "execution_count": 36,
     "metadata": {},
     "output_type": "execute_result"
    }
   ],
   "source": [
    "\"string\" is \"string\""
   ]
  },
  {
   "cell_type": "code",
   "execution_count": 37,
   "metadata": {},
   "outputs": [
    {
     "data": {
      "text/plain": [
       "False"
      ]
     },
     "execution_count": 37,
     "metadata": {},
     "output_type": "execute_result"
    }
   ],
   "source": [
    "1 is 2"
   ]
  },
  {
   "cell_type": "code",
   "execution_count": 38,
   "metadata": {},
   "outputs": [
    {
     "data": {
      "text/plain": [
       "False"
      ]
     },
     "execution_count": 38,
     "metadata": {},
     "output_type": "execute_result"
    }
   ],
   "source": [
    "\"string\" is not \"string\""
   ]
  },
  {
   "cell_type": "code",
   "execution_count": 42,
   "metadata": {},
   "outputs": [
    {
     "name": "stdout",
     "output_type": "stream",
     "text": [
      "\n",
      "Enter your choice : rock\n",
      "\n",
      "Enter your choice : rock\n",
      "\n",
      " Tie.........\n"
     ]
    }
   ],
   "source": [
    "#rock-paper-scissor\n",
    "\n",
    "p1_win = [('paper','rock'),('scissor','paper'),('rock','scissor')]\n",
    "p1 = input(\"\\nEnter your choice : \")\n",
    "p2 = input(\"\\nEnter your choice : \")\n",
    "\n",
    "if (p1,p2) in p1_win:\n",
    "    print(\"\\n Player one won....\")\n",
    "    \n",
    "elif p1==p2:\n",
    "    print(\"\\n Tie.........\")\n",
    "    \n",
    "else:\n",
    "    print(\"\\n Player two won......\")"
   ]
  },
  {
   "cell_type": "code",
   "execution_count": 43,
   "metadata": {},
   "outputs": [],
   "source": [
    "from getpass import getpass"
   ]
  },
  {
   "cell_type": "code",
   "execution_count": 44,
   "metadata": {},
   "outputs": [
    {
     "name": "stdout",
     "output_type": "stream",
     "text": [
      "········\n"
     ]
    },
    {
     "data": {
      "text/plain": [
       "'simran'"
      ]
     },
     "execution_count": 44,
     "metadata": {},
     "output_type": "execute_result"
    }
   ],
   "source": [
    "getpass()"
   ]
  },
  {
   "cell_type": "code",
   "execution_count": 46,
   "metadata": {},
   "outputs": [
    {
     "name": "stdout",
     "output_type": "stream",
     "text": [
      "\n",
      "Enter your choice : ········\n",
      "\n",
      "Enter your choice : ········\n",
      "\n",
      "\n",
      "Player1 :  rock\n",
      "Player2 :  rock\n",
      "\n",
      " Tie.........\n"
     ]
    }
   ],
   "source": [
    "#rock-paper-scissor\n",
    "\n",
    "p1_win = [('paper','rock'),('scissor','paper'),('rock','scissor')]\n",
    "p1 = getpass(\"\\nEnter your choice : \")\n",
    "p2 = getpass(\"\\nEnter your choice : \")\n",
    "\n",
    "\n",
    "print(\"\\n\")\n",
    "print(\"Player1 : \",p1)\n",
    "print(\"Player2 : \",p2)\n",
    "\n",
    "if (p1,p2) in p1_win:\n",
    "    print(\"\\n Player one won....\")\n",
    "    \n",
    "    \n",
    "elif p1==p2:\n",
    "    print(\"\\n Tie.........\")\n",
    "    \n",
    "else:\n",
    "    print(\"\\n Player two won......\")"
   ]
  },
  {
   "cell_type": "code",
   "execution_count": 51,
   "metadata": {},
   "outputs": [],
   "source": [
    "c = random.choice(['rock','paper','scissor'])"
   ]
  },
  {
   "cell_type": "code",
   "execution_count": 52,
   "metadata": {},
   "outputs": [
    {
     "data": {
      "text/plain": [
       "'scissor'"
      ]
     },
     "execution_count": 52,
     "metadata": {},
     "output_type": "execute_result"
    }
   ],
   "source": [
    "c"
   ]
  },
  {
   "cell_type": "code",
   "execution_count": 55,
   "metadata": {},
   "outputs": [
    {
     "name": "stdout",
     "output_type": "stream",
     "text": [
      "\n",
      "Enter your choice : ········\n",
      "\n",
      "\n",
      "Player1 :  jenfnjn\n",
      "Computer :  scissor\n",
      "\n",
      " Computer won......\n"
     ]
    }
   ],
   "source": [
    "p1_win = [('paper','rock'),('scissor','paper'),('rock','scissor')]\n",
    "p1 = getpass(\"\\nEnter your choice : \")\n",
    "c = random.choice(['rock','paper','scissor'])\n",
    "\n",
    "print(\"\\n\")\n",
    "print(\"Player1 : \",p1)\n",
    "print(\"Computer : \",c)\n",
    "\n",
    "if (p1,c) in p1_win:\n",
    "    print(\"\\n Player one won....\")\n",
    "    \n",
    "    \n",
    "elif p1==c:\n",
    "    print(\"\\n Tie.........\")\n",
    "    \n",
    "else:\n",
    "    print(\"\\n Computer won......\")"
   ]
  },
  {
   "cell_type": "code",
   "execution_count": 60,
   "metadata": {},
   "outputs": [
    {
     "name": "stdout",
     "output_type": "stream",
     "text": [
      "\n",
      "Enter your choice : ········\n",
      "\n",
      "\n",
      "Player1 :  scissor\n",
      "Computer :  rock\n",
      "\n",
      " Computer won......\n"
     ]
    }
   ],
   "source": [
    "p1_win = [('paper','rock'),('scissor','paper'),('rock','scissor')]\n",
    "c_win = [('rock','paper'),('paper','scissor'),('scissor','rock')]\n",
    "\n",
    "p1 = getpass(\"\\nEnter your choice : \")\n",
    "c = random.choice(['rock','paper','scissor'])\n",
    "\n",
    "print(\"\\n\")\n",
    "print(\"Player1 : \",p1)\n",
    "print(\"Computer : \",c)\n",
    "\n",
    "if (p1,c) in p1_win:\n",
    "    print(\"\\n Player one won....\")\n",
    "    \n",
    "    \n",
    "elif p1==c:\n",
    "    print(\"\\n Tie.........\")\n",
    "    \n",
    "elif (p1,c) in c_win:\n",
    "    print(\"\\n Computer won......\")\n",
    "    \n",
    "else:\n",
    "    print(\"\\nInvalid input\")"
   ]
  },
  {
   "cell_type": "code",
   "execution_count": 61,
   "metadata": {},
   "outputs": [
    {
     "data": {
      "text/plain": [
       "123"
      ]
     },
     "execution_count": 61,
     "metadata": {},
     "output_type": "execute_result"
    }
   ],
   "source": [
    "eval(\"123\")"
   ]
  },
  {
   "cell_type": "code",
   "execution_count": 62,
   "metadata": {},
   "outputs": [
    {
     "data": {
      "text/plain": [
       "6"
      ]
     },
     "execution_count": 62,
     "metadata": {},
     "output_type": "execute_result"
    }
   ],
   "source": [
    "eval(\"1+2+3\")"
   ]
  },
  {
   "cell_type": "code",
   "execution_count": 63,
   "metadata": {},
   "outputs": [
    {
     "data": {
      "text/plain": [
       "(3+5j)"
      ]
     },
     "execution_count": 63,
     "metadata": {},
     "output_type": "execute_result"
    }
   ],
   "source": [
    "eval(\"3+5j\")"
   ]
  },
  {
   "cell_type": "code",
   "execution_count": 65,
   "metadata": {},
   "outputs": [
    {
     "data": {
      "text/plain": [
       "(3+4j)"
      ]
     },
     "execution_count": 65,
     "metadata": {},
     "output_type": "execute_result"
    }
   ],
   "source": [
    "complex(3,4)"
   ]
  },
  {
   "cell_type": "code",
   "execution_count": 66,
   "metadata": {},
   "outputs": [
    {
     "name": "stdout",
     "output_type": "stream",
     "text": [
      "Enter the number you want to evaluate :  2+3*9/8\n",
      "The answer is :  5.375\n"
     ]
    }
   ],
   "source": [
    "n = input(\"Enter the number you want to evaluate :  \")\n",
    "print(\"The answer is : \",eval(n))"
   ]
  },
  {
   "cell_type": "code",
   "execution_count": null,
   "metadata": {},
   "outputs": [],
   "source": []
  }
 ],
 "metadata": {
  "kernelspec": {
   "display_name": "Python 3",
   "language": "python",
   "name": "python3"
  },
  "language_info": {
   "codemirror_mode": {
    "name": "ipython",
    "version": 3
   },
   "file_extension": ".py",
   "mimetype": "text/x-python",
   "name": "python",
   "nbconvert_exporter": "python",
   "pygments_lexer": "ipython3",
   "version": "3.7.4"
  }
 },
 "nbformat": 4,
 "nbformat_minor": 2
}
