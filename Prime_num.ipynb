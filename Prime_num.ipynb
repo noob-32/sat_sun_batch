{
 "cells": [
  {
   "cell_type": "code",
   "execution_count": 3,
   "metadata": {},
   "outputs": [
    {
     "data": {
      "text/plain": [
       "0"
      ]
     },
     "execution_count": 3,
     "metadata": {},
     "output_type": "execute_result"
    }
   ],
   "source": [
    "4%2"
   ]
  },
  {
   "cell_type": "code",
   "execution_count": 8,
   "metadata": {},
   "outputs": [
    {
     "data": {
      "text/plain": [
       "'C:\\\\batches\\\\sat_sunbatch'"
      ]
     },
     "execution_count": 8,
     "metadata": {},
     "output_type": "execute_result"
    }
   ],
   "source": [
    "pwd"
   ]
  },
  {
   "cell_type": "code",
   "execution_count": 9,
   "metadata": {},
   "outputs": [
    {
     "name": "stdout",
     "output_type": "stream",
     "text": [
      "Writing checkprime.py\n"
     ]
    }
   ],
   "source": [
    "%%writefile checkprime.py\n",
    "\n",
    "n = int(input(\"Enter any number : \"))\n",
    "s = 2\n",
    "while s<n:\n",
    "    if n%s == 0:\n",
    "        print(f\"{n} Number is not prime...\")\n",
    "        break\n",
    "    s += 1\n",
    "else:\n",
    "    print(f\"{n} is prime\")"
   ]
  },
  {
   "cell_type": "code",
   "execution_count": 19,
   "metadata": {},
   "outputs": [
    {
     "name": "stdout",
     "output_type": "stream",
     "text": [
      "Enter any number : 7\n",
      "7 is prime\n",
      "Enter any number : 4\n",
      "4 Number is not prime...\n",
      "Enter any number : 6\n",
      "6 Number is not prime...\n",
      "Enter any number : 3\n",
      "3 is prime\n",
      "Enter any number : 10\n",
      "10 Number is not prime...\n",
      "Enter any number : 11\n",
      "11 is prime\n",
      "Enter any number : 34\n",
      "34 Number is not prime...\n",
      "Enter any number : 67\n",
      "67 is prime\n",
      "The slowest run took 5.40 times longer than the fastest. This could mean that an intermediate result is being cached.\n",
      "2.38 s ± 1.59 s per loop (mean ± std. dev. of 7 runs, 1 loop each)\n"
     ]
    }
   ],
   "source": [
    "%%timeit\n",
    "\n",
    "\n",
    "n = int(input(\"Enter any number : \"))\n",
    "s = 2\n",
    "while s<n:\n",
    "    if n%s == 0:\n",
    "        print(f\"{n} Number is not prime...\")\n",
    "        break\n",
    "    s += 1\n",
    "else:\n",
    "    print(f\"{n} is prime\")"
   ]
  },
  {
   "cell_type": "code",
   "execution_count": 11,
   "metadata": {},
   "outputs": [],
   "source": [
    "import math"
   ]
  },
  {
   "cell_type": "code",
   "execution_count": 12,
   "metadata": {},
   "outputs": [
    {
     "name": "stdout",
     "output_type": "stream",
     "text": [
      "['__doc__', '__loader__', '__name__', '__package__', '__spec__', 'acos', 'acosh', 'asin', 'asinh', 'atan', 'atan2', 'atanh', 'ceil', 'copysign', 'cos', 'cosh', 'degrees', 'e', 'erf', 'erfc', 'exp', 'expm1', 'fabs', 'factorial', 'floor', 'fmod', 'frexp', 'fsum', 'gamma', 'gcd', 'hypot', 'inf', 'isclose', 'isfinite', 'isinf', 'isnan', 'ldexp', 'lgamma', 'log', 'log10', 'log1p', 'log2', 'modf', 'nan', 'pi', 'pow', 'radians', 'remainder', 'sin', 'sinh', 'sqrt', 'tan', 'tanh', 'tau', 'trunc']\n"
     ]
    }
   ],
   "source": [
    "print(dir(math))"
   ]
  },
  {
   "cell_type": "code",
   "execution_count": 20,
   "metadata": {},
   "outputs": [
    {
     "name": "stdout",
     "output_type": "stream",
     "text": [
      "Enter any number : 7\n",
      "7 is prime\n",
      "Enter any number : 4\n",
      "4 Number is not prime...\n",
      "Enter any number : 6\n",
      "6 Number is not prime...\n",
      "Enter any number : 3\n",
      "3 is prime\n",
      "Enter any number : 10\n",
      "10 Number is not prime...\n",
      "Enter any number : 11\n",
      "11 is prime\n",
      "Enter any number : 34\n",
      "34 Number is not prime...\n",
      "Enter any number : 67\n",
      "67 is prime\n",
      "The slowest run took 8.97 times longer than the fastest. This could mean that an intermediate result is being cached.\n",
      "1.8 s ± 1.61 s per loop (mean ± std. dev. of 7 runs, 1 loop each)\n"
     ]
    }
   ],
   "source": [
    "%%timeit\n",
    "\n",
    "#another method to check prime or not prime\n",
    "\n",
    "n = int(input(\"Enter any number : \"))\n",
    "s = 2\n",
    "end = math.sqrt(n)\n",
    "while s<=end:\n",
    "    if n%s == 0:\n",
    "        print(f\"{n} Number is not prime...\")\n",
    "        break\n",
    "    s += 1\n",
    "else:\n",
    "    print(f\"{n} is prime\")"
   ]
  },
  {
   "cell_type": "code",
   "execution_count": 30,
   "metadata": {},
   "outputs": [
    {
     "name": "stdout",
     "output_type": "stream",
     "text": [
      "Overwriting checkprimenum.py\n"
     ]
    }
   ],
   "source": [
    "%%writefile checkprimenum.py\n",
    "\n",
    "import math\n",
    "start = int(input(\"Enter start number : \"))\n",
    "end = int(input(\"Enter end number : \"))\n",
    "l = []\n",
    "while start<=end:\n",
    "    print(start,end=',')\n",
    "    s = 2\n",
    "    while s<=math.sqrt(start):\n",
    "        if start%s == 0:\n",
    "            break\n",
    "        s += 1\n",
    "    else:\n",
    "        if start == 2:\n",
    "            pass\n",
    "        else:\n",
    "            l.append(start)\n",
    "    start += 1\n",
    "print()\n",
    "print(*l)"
   ]
  },
  {
   "cell_type": "code",
   "execution_count": 25,
   "metadata": {},
   "outputs": [
    {
     "data": {
      "text/plain": [
       "4.58257569495584"
      ]
     },
     "execution_count": 25,
     "metadata": {},
     "output_type": "execute_result"
    }
   ],
   "source": [
    "math.sqrt(21)"
   ]
  },
  {
   "cell_type": "code",
   "execution_count": 23,
   "metadata": {},
   "outputs": [
    {
     "name": "stdout",
     "output_type": "stream",
     "text": [
      "Enter start number : \n"
     ]
    },
    {
     "ename": "ValueError",
     "evalue": "invalid literal for int() with base 10: ''",
     "output_type": "error",
     "traceback": [
      "\u001b[1;31m---------------------------------------------------------------------\u001b[0m",
      "\u001b[1;31mValueError\u001b[0m                          Traceback (most recent call last)",
      "\u001b[1;32m<ipython-input-23-9c2232d7c0b0>\u001b[0m in \u001b[0;36m<module>\u001b[1;34m\u001b[0m\n\u001b[0;32m      1\u001b[0m \u001b[1;32mimport\u001b[0m \u001b[0mmath\u001b[0m\u001b[1;33m\u001b[0m\u001b[1;33m\u001b[0m\u001b[0m\n\u001b[1;32m----> 2\u001b[1;33m \u001b[0mstart\u001b[0m \u001b[1;33m=\u001b[0m \u001b[0mint\u001b[0m\u001b[1;33m(\u001b[0m\u001b[0minput\u001b[0m\u001b[1;33m(\u001b[0m\u001b[1;34m\"Enter start number : \"\u001b[0m\u001b[1;33m)\u001b[0m\u001b[1;33m)\u001b[0m\u001b[1;33m\u001b[0m\u001b[1;33m\u001b[0m\u001b[0m\n\u001b[0m\u001b[0;32m      3\u001b[0m \u001b[0mend\u001b[0m \u001b[1;33m=\u001b[0m \u001b[0mint\u001b[0m\u001b[1;33m(\u001b[0m\u001b[0minput\u001b[0m\u001b[1;33m(\u001b[0m\u001b[1;34m\"Enter end number : \"\u001b[0m\u001b[1;33m)\u001b[0m\u001b[1;33m)\u001b[0m\u001b[1;33m\u001b[0m\u001b[1;33m\u001b[0m\u001b[0m\n\u001b[0;32m      4\u001b[0m \u001b[0ml\u001b[0m \u001b[1;33m=\u001b[0m \u001b[1;33m[\u001b[0m\u001b[1;33m]\u001b[0m\u001b[1;33m\u001b[0m\u001b[1;33m\u001b[0m\u001b[0m\n\u001b[0;32m      5\u001b[0m \u001b[1;32mwhile\u001b[0m \u001b[0mstart\u001b[0m\u001b[1;33m<=\u001b[0m\u001b[0mend\u001b[0m\u001b[1;33m:\u001b[0m\u001b[1;33m\u001b[0m\u001b[1;33m\u001b[0m\u001b[0m\n",
      "\u001b[1;31mValueError\u001b[0m: invalid literal for int() with base 10: ''"
     ]
    }
   ],
   "source": [
    "import math\n",
    "start = int(input(\"Enter start number : \"))\n",
    "end = int(input(\"Enter end number : \"))\n",
    "l = []\n",
    "while start<=end:\n",
    "    print(start,end=',')\n",
    "    s = 2\n",
    "    while s<=math.sqrt(start):\n",
    "        if start%s == 0:\n",
    "            break\n",
    "        s += 1\n",
    "    else:\n",
    "           l.append(start)\n",
    "    start += 1\n",
    "print()\n",
    "print(*l)"
   ]
  },
  {
   "cell_type": "code",
   "execution_count": null,
   "metadata": {},
   "outputs": [],
   "source": []
  }
 ],
 "metadata": {
  "kernelspec": {
   "display_name": "Python 3",
   "language": "python",
   "name": "python3"
  },
  "language_info": {
   "codemirror_mode": {
    "name": "ipython",
    "version": 3
   },
   "file_extension": ".py",
   "mimetype": "text/x-python",
   "name": "python",
   "nbconvert_exporter": "python",
   "pygments_lexer": "ipython3",
   "version": "3.7.4"
  }
 },
 "nbformat": 4,
 "nbformat_minor": 2
}
